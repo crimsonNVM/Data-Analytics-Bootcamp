{
 "cells": [
  {
   "cell_type": "code",
   "execution_count": null,
   "id": "0e01009c-7a09-4415-bf4a-2dc9e9c3df41",
   "metadata": {},
   "outputs": [],
   "source": [
    "while True:\n",
    "    user_input=input(\"Type 'q' to exit the loop\")\n",
    "    if user_input=='q':\n",
    "        print(\"Exited\")\n",
    "        break\n",
    "    else:\n",
    "        print(\"You typed\",user_input)"
   ]
  },
  {
   "cell_type": "code",
   "execution_count": 3,
   "id": "208e7d60-9583-437d-9d0e-57e1b42d4d25",
   "metadata": {},
   "outputs": [
    {
     "name": "stdin",
     "output_type": "stream",
     "text": [
      "Enter password-  shaa\n"
     ]
    },
    {
     "name": "stdout",
     "output_type": "stream",
     "text": [
      "Access Denied! You have 2 attempts left now\n"
     ]
    },
    {
     "name": "stdin",
     "output_type": "stream",
     "text": [
      "Enter password-  shazam\n"
     ]
    },
    {
     "name": "stdout",
     "output_type": "stream",
     "text": [
      "Access Denied! You have 1 attempts left now\n"
     ]
    },
    {
     "name": "stdin",
     "output_type": "stream",
     "text": [
      "Enter password-  Shazam\n"
     ]
    },
    {
     "name": "stdout",
     "output_type": "stream",
     "text": [
      "Login successful\n"
     ]
    }
   ],
   "source": [
    "password='Shazam'\n",
    "attempts=3\n",
    "while attempts>0:\n",
    "    user_input=input(\"Enter password- \")\n",
    "    if user_input==password:\n",
    "        print(\"Login successful\")\n",
    "        break\n",
    "    else:\n",
    "        attempts -=1\n",
    "        print(f\"Access Denied! You have {attempts} attempts left now\")"
   ]
  },
  {
   "cell_type": "code",
   "execution_count": null,
   "id": "8a1ab100-93de-48dc-abf1-16385c379202",
   "metadata": {},
   "outputs": [],
   "source": [
    "num=1\n",
    "while num<=100:\n",
    "    if num%7==0:\n",
    "        print(num)\n",
    "        num+=1"
   ]
  },
  {
   "cell_type": "code",
   "execution_count": 12,
   "id": "42c6dcc5-ba04-40d8-a765-29d9474e1f51",
   "metadata": {},
   "outputs": [
    {
     "name": "stdin",
     "output_type": "stream",
     "text": [
      "Enter password-  haja\n"
     ]
    },
    {
     "name": "stdout",
     "output_type": "stream",
     "text": [
      "Access Denied! You have 3 attempts left now\n"
     ]
    },
    {
     "name": "stdin",
     "output_type": "stream",
     "text": [
      "Enter password-  jaja\n"
     ]
    },
    {
     "name": "stdout",
     "output_type": "stream",
     "text": [
      "Access Denied! You have 2 attempts left now\n"
     ]
    },
    {
     "name": "stdin",
     "output_type": "stream",
     "text": [
      "Enter password-  Shazam\n"
     ]
    },
    {
     "name": "stdout",
     "output_type": "stream",
     "text": [
      "Login successful\n"
     ]
    }
   ],
   "source": [
    "password='Shazam'\n",
    "for i in range(1,4):\n",
    "    user_input=input(\"Enter password- \")\n",
    "    if user_input==password:\n",
    "        print(\"Login successful\")\n",
    "        break\n",
    "    else:\n",
    "        print(f\"Access Denied! You have\",4-i,\"attempts left now\")"
   ]
  },
  {
   "cell_type": "code",
   "execution_count": 14,
   "id": "34f34704-1a5b-48d2-8e24-4a3b1e4120e8",
   "metadata": {},
   "outputs": [
    {
     "name": "stdout",
     "output_type": "stream",
     "text": [
      "p\n",
      "y\n",
      "t\n",
      "h\n"
     ]
    }
   ],
   "source": [
    "word='python'\n",
    "for char in word:\n",
    "    if char=='o':\n",
    "        continue\n",
    "    elif char=='n':\n",
    "        break\n",
    "    else:\n",
    "        print(char)"
   ]
  },
  {
   "cell_type": "code",
   "execution_count": 26,
   "id": "2afdfb7d-813c-47f6-89d5-a63a224870f9",
   "metadata": {},
   "outputs": [
    {
     "name": "stdout",
     "output_type": "stream",
     "text": [
      "Sum=  25\n"
     ]
    }
   ],
   "source": [
    "def func(a,b):\n",
    " return a+b\n",
    "print(\"Sum= \",func(10,15))"
   ]
  },
  {
   "cell_type": "code",
   "execution_count": null,
   "id": "38a4fd4d-1a1c-431b-8af9-23018a020a96",
   "metadata": {},
   "outputs": [],
   "source": [
    "def reverse"
   ]
  }
 ],
 "metadata": {
  "kernelspec": {
   "display_name": "Python 3 (ipykernel)",
   "language": "python",
   "name": "python3"
  },
  "language_info": {
   "codemirror_mode": {
    "name": "ipython",
    "version": 3
   },
   "file_extension": ".py",
   "mimetype": "text/x-python",
   "name": "python",
   "nbconvert_exporter": "python",
   "pygments_lexer": "ipython3",
   "version": "3.13.5"
  }
 },
 "nbformat": 4,
 "nbformat_minor": 5
}
