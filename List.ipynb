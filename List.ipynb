{
 "cells": [
  {
   "cell_type": "code",
   "execution_count": 1,
   "id": "dab613af-8746-4775-8b32-5f32d3465aa5",
   "metadata": {},
   "outputs": [
    {
     "name": "stdout",
     "output_type": "stream",
     "text": [
      "[1, 4, 8, 7, 1]\n"
     ]
    }
   ],
   "source": [
    "lst=[1,4,8,7]\n",
    "lst.append(1)\n",
    "print(lst)"
   ]
  },
  {
   "cell_type": "code",
   "execution_count": 2,
   "id": "9018f69f-7b2e-4234-bc7c-613efc7d82be",
   "metadata": {},
   "outputs": [
    {
     "name": "stdout",
     "output_type": "stream",
     "text": [
      "[1, 4, 8, 7, 3]\n"
     ]
    }
   ],
   "source": [
    "lst=[1,4,8,7]\n",
    "lst.insert(7,3)\n",
    "print(lst)"
   ]
  },
  {
   "cell_type": "code",
   "execution_count": 3,
   "id": "539137b6-0b05-415b-b2ef-153d2f4def1f",
   "metadata": {},
   "outputs": [
    {
     "name": "stdout",
     "output_type": "stream",
     "text": [
      "[2, 4, 8, 0, 5, 1, 6]\n"
     ]
    }
   ],
   "source": [
    "a=[2,4,8,0,5]\n",
    "a.extend([1,6])\n",
    "print(a)"
   ]
  },
  {
   "cell_type": "code",
   "execution_count": 4,
   "id": "34e41753-7236-4bce-8ee3-aa7640f74e13",
   "metadata": {},
   "outputs": [
    {
     "name": "stdout",
     "output_type": "stream",
     "text": [
      "[1, 4, 8, 9]\n"
     ]
    }
   ],
   "source": [
    "lst=[1,4,8,9,7]\n",
    "lst.pop()\n",
    "print(lst)"
   ]
  },
  {
   "cell_type": "code",
   "execution_count": 3,
   "id": "5bc9076b-c124-48ee-8c02-72b7eb1bca5d",
   "metadata": {},
   "outputs": [
    {
     "name": "stdin",
     "output_type": "stream",
     "text": [
      "Enter a number:  8\n",
      "Enter a number:  6\n",
      "Enter a number:  4\n",
      "Enter a number:  7\n",
      "Enter a number:  5\n"
     ]
    },
    {
     "name": "stdout",
     "output_type": "stream",
     "text": [
      "List=  [8, 6, 4, 7, 5]\n"
     ]
    }
   ],
   "source": [
    "lst = []\n",
    "for i in range(5):\n",
    "    num = int(input(\"Enter a number: \"))\n",
    "    lst.append(num)\n",
    "print(\"List= \",lst)"
   ]
  },
  {
   "cell_type": "code",
   "execution_count": 4,
   "id": "645be922-16bc-4b03-96c9-26bd814eeee9",
   "metadata": {},
   "outputs": [
    {
     "name": "stdout",
     "output_type": "stream",
     "text": [
      "[1, 2, 3, 4, 5, 6]\n"
     ]
    }
   ],
   "source": [
    "list1 = [1, 2, 3]\n",
    "list2 = [4, 5, 6]\n",
    "list1.extend(list2)\n",
    "print(list1)"
   ]
  },
  {
   "cell_type": "code",
   "execution_count": 6,
   "id": "47b9e0af-3543-46ca-93a5-3b1ded0c9d4a",
   "metadata": {},
   "outputs": [
    {
     "name": "stdout",
     "output_type": "stream",
     "text": [
      "[10, 20, 25, 30, 40]\n"
     ]
    }
   ],
   "source": [
    "lst = [10, 20, 30, 40]\n",
    "lst.insert(2, 25)\n",
    "print(lst)"
   ]
  },
  {
   "cell_type": "code",
   "execution_count": 10,
   "id": "8b63198e-a017-430c-9907-e9e84bbe2870",
   "metadata": {},
   "outputs": [
    {
     "name": "stdout",
     "output_type": "stream",
     "text": [
      "[10, 30, 20, 40]\n"
     ]
    }
   ],
   "source": [
    "l= [10,20,30, 20, 40]\n",
    "l.remove(20)\n",
    "print(l)"
   ]
  },
  {
   "cell_type": "code",
   "execution_count": 9,
   "id": "84f34fab-a14b-48dd-8d9f-c5fd2837e8bc",
   "metadata": {},
   "outputs": [
    {
     "name": "stdout",
     "output_type": "stream",
     "text": [
      "Popped item: 5\n",
      "Updated list: [1, 2, 3, 4]\n"
     ]
    }
   ],
   "source": [
    "lst = [1, 2, 3, 4, 5]\n",
    "pop1= lst.pop()\n",
    "print(\"Popped item:\", pop1)\n",
    "print(\"Updated list:\", lst)"
   ]
  },
  {
   "cell_type": "code",
   "execution_count": 11,
   "id": "5a416336-5966-49f5-acd8-2dd0e2263382",
   "metadata": {},
   "outputs": [
    {
     "name": "stdout",
     "output_type": "stream",
     "text": [
      "Index of 15: 2\n"
     ]
    }
   ],
   "source": [
    "lst = [5, 10, 15, 20, 25]\n",
    "index = lst.index(15)\n",
    "print(\"Index of 15:\", index)"
   ]
  },
  {
   "cell_type": "code",
   "execution_count": 13,
   "id": "6e9852ed-cd7b-438d-9e6f-86692585a61e",
   "metadata": {},
   "outputs": [
    {
     "name": "stdout",
     "output_type": "stream",
     "text": [
      "Number 2 appeared: 4 times\n"
     ]
    }
   ],
   "source": [
    "lst = [1, 2, 2, 3, 2, 4, 2]\n",
    "count2 = lst.count(2)\n",
    "print(\"Number 2 appeared:\", count2, \"times\")"
   ]
  },
  {
   "cell_type": "code",
   "execution_count": 14,
   "id": "daf957f7-c55a-488d-a35d-a464eb60f5f7",
   "metadata": {},
   "outputs": [
    {
     "name": "stdout",
     "output_type": "stream",
     "text": [
      "Ascending: [3, 5, 7, 10]\n",
      "Descending: [10, 7, 5, 3]\n"
     ]
    }
   ],
   "source": [
    "lst = [10, 5, 7, 3]\n",
    "lst.sort()\n",
    "print(\"Ascending:\", lst)\n",
    "lst.sort(reverse=True)\n",
    "print(\"Descending:\", lst)"
   ]
  },
  {
   "cell_type": "code",
   "execution_count": 15,
   "id": "97e19f33-d28c-4fe9-bbe0-781942606437",
   "metadata": {},
   "outputs": [
    {
     "name": "stdout",
     "output_type": "stream",
     "text": [
      "[5, 4, 3, 2, 1]\n"
     ]
    }
   ],
   "source": [
    "lst = [1, 2, 3, 4, 5]\n",
    "lst.reverse()\n",
    "print(lst)"
   ]
  },
  {
   "cell_type": "code",
   "execution_count": 16,
   "id": "c3eedab8-6f8c-4a0a-ac7b-f55cd7f9db4a",
   "metadata": {},
   "outputs": [
    {
     "name": "stdout",
     "output_type": "stream",
     "text": [
      "Original list: [1, 2, 3]\n",
      "Copied list: [1, 2, 3, 4]\n"
     ]
    }
   ],
   "source": [
    "og = [1, 2, 3]\n",
    "copied = og.copy()\n",
    "copied.append(4)\n",
    "print(\"Original list:\", og)\n",
    "print(\"Copied list:\", copied)"
   ]
  },
  {
   "cell_type": "code",
   "execution_count": 18,
   "id": "ebf39cab-2b5a-4bfc-8873-bcc82373f67b",
   "metadata": {},
   "outputs": [
    {
     "name": "stdout",
     "output_type": "stream",
     "text": [
      "[1, 4, 9, 8, 7]\n"
     ]
    }
   ],
   "source": [
    "lst=[1,4,8,9,8,7]\n",
    "lst.remove(8)\n",
    "print(lst)"
   ]
  },
  {
   "cell_type": "code",
   "execution_count": 19,
   "id": "af418f69-1cf0-4402-b22b-58844eeb27f4",
   "metadata": {},
   "outputs": [
    {
     "name": "stdout",
     "output_type": "stream",
     "text": [
      "[]\n"
     ]
    }
   ],
   "source": [
    "lst=[1,4,8,9,7]\n",
    "lst.clear()\n",
    "print(lst)"
   ]
  },
  {
   "cell_type": "code",
   "execution_count": 21,
   "id": "c7660cbc-2089-4474-92b3-bd66ae4f2329",
   "metadata": {},
   "outputs": [
    {
     "data": {
      "text/plain": [
       "2"
      ]
     },
     "execution_count": 21,
     "metadata": {},
     "output_type": "execute_result"
    }
   ],
   "source": [
    "lst=[1,4,8,9,7]\n",
    "lst.index(8)"
   ]
  },
  {
   "cell_type": "code",
   "execution_count": 23,
   "id": "3bbcd4ad-e145-4501-956f-052a2be153fb",
   "metadata": {},
   "outputs": [
    {
     "data": {
      "text/plain": [
       "3"
      ]
     },
     "execution_count": 23,
     "metadata": {},
     "output_type": "execute_result"
    }
   ],
   "source": [
    "lst=[1,4,8,9,6,7,6,6,7]\n",
    "lst.count(6)"
   ]
  },
  {
   "cell_type": "code",
   "execution_count": 24,
   "id": "c0590205-df4b-4f5e-8135-0b6fe1f3ca18",
   "metadata": {},
   "outputs": [
    {
     "name": "stdout",
     "output_type": "stream",
     "text": [
      "[1, 4, 7, 8, 9]\n"
     ]
    }
   ],
   "source": [
    "lst=[1,4,8,9,7]\n",
    "lst.sort()\n",
    "print(lst)"
   ]
  },
  {
   "cell_type": "code",
   "execution_count": 25,
   "id": "887e399a-a7c2-4b1f-b048-5e8a39c2e540",
   "metadata": {},
   "outputs": [
    {
     "name": "stdout",
     "output_type": "stream",
     "text": [
      "[7, 9, 8, 4, 1]\n"
     ]
    }
   ],
   "source": [
    "lst=[1,4,8,9,7]\n",
    "lst.reverse()\n",
    "print(lst)"
   ]
  },
  {
   "cell_type": "code",
   "execution_count": 26,
   "id": "4a3a81c9-bb77-4cc3-94af-780464811c6b",
   "metadata": {},
   "outputs": [
    {
     "name": "stdout",
     "output_type": "stream",
     "text": [
      "Copied list: [1, 2, 3]\n"
     ]
    }
   ],
   "source": [
    "lst= [1, 2, 3]\n",
    "copied = lst.copy()\n",
    "print(\"Copied list:\", copied)"
   ]
  },
  {
   "cell_type": "code",
   "execution_count": null,
   "id": "f8263aa0-673b-40e3-ad96-4dcb69e167a7",
   "metadata": {},
   "outputs": [],
   "source": []
  }
 ],
 "metadata": {
  "kernelspec": {
   "display_name": "Python 3 (ipykernel)",
   "language": "python",
   "name": "python3"
  },
  "language_info": {
   "codemirror_mode": {
    "name": "ipython",
    "version": 3
   },
   "file_extension": ".py",
   "mimetype": "text/x-python",
   "name": "python",
   "nbconvert_exporter": "python",
   "pygments_lexer": "ipython3",
   "version": "3.13.5"
  }
 },
 "nbformat": 4,
 "nbformat_minor": 5
}
