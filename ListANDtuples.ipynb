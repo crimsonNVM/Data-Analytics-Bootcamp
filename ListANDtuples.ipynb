{
 "cells": [
  {
   "cell_type": "code",
   "execution_count": 1,
   "id": "67c8096c-ae6b-421d-95f1-92c9e7f4807d",
   "metadata": {},
   "outputs": [
    {
     "data": {
      "text/plain": [
       "[1, 16, 25]"
      ]
     },
     "execution_count": 1,
     "metadata": {},
     "output_type": "execute_result"
    }
   ],
   "source": [
    "[i**2 for i in [1,4,5]]"
   ]
  },
  {
   "cell_type": "code",
   "execution_count": 2,
   "id": "a7cc2b90-ad44-4a77-95d7-aa435fbf2787",
   "metadata": {},
   "outputs": [
    {
     "data": {
      "text/plain": [
       "[15, 17, 25, 27, 35, 37]"
      ]
     },
     "execution_count": 2,
     "metadata": {},
     "output_type": "execute_result"
    }
   ],
   "source": [
    "[10*i+j for i in [1,2,3] for j in [5,7]]"
   ]
  },
  {
   "cell_type": "code",
   "execution_count": 3,
   "id": "32a011f4-0f9d-4f0d-baca-e4bf13d84948",
   "metadata": {},
   "outputs": [
    {
     "data": {
      "text/plain": [
       "[15, 17, 27, 37]"
      ]
     },
     "execution_count": 3,
     "metadata": {},
     "output_type": "execute_result"
    }
   ],
   "source": [
    "[10*i+j for i in [1,2,3] for j in [4,5,7] if j>= i+4]"
   ]
  },
  {
   "cell_type": "code",
   "execution_count": 4,
   "id": "c9e560de-d5e2-422a-ab43-1849043e8550",
   "metadata": {},
   "outputs": [
    {
     "data": {
      "text/plain": [
       "[44, 56, 88]"
      ]
     },
     "execution_count": 4,
     "metadata": {},
     "output_type": "execute_result"
    }
   ],
   "source": [
    "[i for i in[1,5,7,93,44,56,77,88] if i%2==0]"
   ]
  },
  {
   "cell_type": "code",
   "execution_count": 5,
   "id": "b6488c18-30a8-40ea-9b3f-00b47cb712fa",
   "metadata": {},
   "outputs": [
    {
     "data": {
      "text/plain": [
       "3"
      ]
     },
     "execution_count": 5,
     "metadata": {},
     "output_type": "execute_result"
    }
   ],
   "source": [
    "d= tuple('a string with many \"a\"s')\n",
    "d.count('a')"
   ]
  },
  {
   "cell_type": "code",
   "execution_count": 6,
   "id": "479dc88e-98c6-48fb-ad58-856c125b2e62",
   "metadata": {},
   "outputs": [
    {
     "data": {
      "text/plain": [
       "0"
      ]
     },
     "execution_count": 6,
     "metadata": {},
     "output_type": "execute_result"
    }
   ],
   "source": [
    "d.index('a')"
   ]
  },
  {
   "cell_type": "code",
   "execution_count": 7,
   "id": "0edc16d7-36e1-4aa4-b0fc-ae934cbb0e22",
   "metadata": {},
   "outputs": [
    {
     "name": "stdout",
     "output_type": "stream",
     "text": [
      "[1, 5, 8, 9]\n",
      "[4, 5, 7, 33, 54]\n"
     ]
    }
   ],
   "source": [
    "a=[1,5,8,9,4,5,7,33,54]\n",
    "print(a[0:4])\n",
    "print(a[4:])"
   ]
  },
  {
   "cell_type": "code",
   "execution_count": null,
   "id": "ea2c091d-50b4-4d15-bcdf-4b7d0c423f1c",
   "metadata": {},
   "outputs": [],
   "source": []
  }
 ],
 "metadata": {
  "kernelspec": {
   "display_name": "Python 3 (ipykernel)",
   "language": "python",
   "name": "python3"
  },
  "language_info": {
   "codemirror_mode": {
    "name": "ipython",
    "version": 3
   },
   "file_extension": ".py",
   "mimetype": "text/x-python",
   "name": "python",
   "nbconvert_exporter": "python",
   "pygments_lexer": "ipython3",
   "version": "3.13.5"
  }
 },
 "nbformat": 4,
 "nbformat_minor": 5
}
